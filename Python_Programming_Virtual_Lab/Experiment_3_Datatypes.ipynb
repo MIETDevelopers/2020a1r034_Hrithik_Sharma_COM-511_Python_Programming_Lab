{
 "cells": [
  {
   "cell_type": "code",
   "execution_count": 4,
   "id": "79a6cbc6",
   "metadata": {},
   "outputs": [
    {
     "name": "stdout",
     "output_type": "stream",
     "text": [
      "\n",
      "List of numbers: \n",
      "[10, 20, 14]\n"
     ]
    }
   ],
   "source": [
    "# List\n",
    "List = [10, 20, 14]\n",
    "print(\"\\nList of numbers: \")\n",
    "print(List)"
   ]
  },
  {
   "cell_type": "code",
   "execution_count": 5,
   "id": "de8911d7",
   "metadata": {},
   "outputs": [
    {
     "name": "stdout",
     "output_type": "stream",
     "text": [
      "(0, 1, 2, 3, 'python', 'miet')\n"
     ]
    }
   ],
   "source": [
    "# Tuple\n",
    "tuple1 = (0, 1, 2, 3)\n",
    "tuple2 = ('python', 'miet')\n",
    "  \n",
    "# Concatenating above two\n",
    "print(tuple1 + tuple2)"
   ]
  },
  {
   "cell_type": "code",
   "execution_count": 7,
   "id": "db9b8387",
   "metadata": {},
   "outputs": [
    {
     "name": "stdout",
     "output_type": "stream",
     "text": [
      "Dictionary with the use of Integer Keys: \n",
      "{1: 'Python', 2: 'For', 3: 'Programming'}\n",
      "Dictionary with the use of mixed keys is: \n",
      "{'Name': 'Geeks', 1: [1, 2, 3, 4]}\n"
     ]
    }
   ],
   "source": [
    "# Dictionary\n",
    "Dict = {1: 'Python', 2: 'For', 3: 'Programming'}\n",
    "print(\"Dictionary with the use of Integer Keys: \")\n",
    "print(Dict)\n",
    "  \n",
    "# Creating a Dictionary\n",
    "Dict = {'Name': 'Geeks', 1: [1, 2, 3, 4]}\n",
    "print(\"Dictionary with the use of mixed keys is: \")\n",
    "print(Dict)"
   ]
  },
  {
   "cell_type": "code",
   "execution_count": null,
   "id": "e2d7ca70",
   "metadata": {},
   "outputs": [],
   "source": []
  }
 ],
 "metadata": {
  "kernelspec": {
   "display_name": "Python 3 (ipykernel)",
   "language": "python",
   "name": "python3"
  },
  "language_info": {
   "codemirror_mode": {
    "name": "ipython",
    "version": 3
   },
   "file_extension": ".py",
   "mimetype": "text/x-python",
   "name": "python",
   "nbconvert_exporter": "python",
   "pygments_lexer": "ipython3",
   "version": "3.9.12"
  }
 },
 "nbformat": 4,
 "nbformat_minor": 5
}
