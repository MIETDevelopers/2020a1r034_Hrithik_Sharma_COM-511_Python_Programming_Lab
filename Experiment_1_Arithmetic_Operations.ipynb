{
 "cells": [
  {
   "cell_type": "code",
   "execution_count": 8,
   "id": "7ad108cc",
   "metadata": {},
   "outputs": [
    {
     "name": "stdout",
     "output_type": "stream",
     "text": [
      "Enter a Number: 10\n",
      "Enter a Number: 20\n",
      "The Addition is:  30\n"
     ]
    }
   ],
   "source": [
    "# Addition\n",
    "a = input((\"Enter a Number: \"))\n",
    "\n",
    "b = input((\"Enter a Number: \"))\n",
    "\n",
    "c = int(a) + int(b)\n",
    "\n",
    "print(\"The Addition is: \",c)"
   ]
  },
  {
   "cell_type": "code",
   "execution_count": 10,
   "id": "9aaf0e9d",
   "metadata": {},
   "outputs": [
    {
     "name": "stdout",
     "output_type": "stream",
     "text": [
      "Enter a Number: 4\n",
      "Enter a Number: 2\n",
      "The Subtraction is:  2\n"
     ]
    }
   ],
   "source": [
    "#  Subtraction\n",
    "a = input('Enter a Number: ')\n",
    "\n",
    "b = input('Enter a Number: ')\n",
    "\n",
    "c = int(a) - int(b)\n",
    "\n",
    "print(\"The Subtraction is: \",c)"
   ]
  },
  {
   "cell_type": "code",
   "execution_count": 11,
   "id": "ea0203b0",
   "metadata": {},
   "outputs": [
    {
     "name": "stdout",
     "output_type": "stream",
     "text": [
      "Enter a Number: 10\n",
      "Enter a Number: 5\n",
      "The Multiplication is:  50\n"
     ]
    }
   ],
   "source": [
    "# Multiplication\n",
    "a = input('Enter a Number: ')\n",
    "\n",
    "b = input('Enter a Number: ')\n",
    "\n",
    "c = int(a) * int(b)\n",
    "\n",
    "print(\"The Multiplication is: \",c)"
   ]
  },
  {
   "cell_type": "code",
   "execution_count": 12,
   "id": "7e6625a7",
   "metadata": {},
   "outputs": [
    {
     "name": "stdout",
     "output_type": "stream",
     "text": [
      "Enter a Number: 10\n",
      "Enter a Number: 5\n",
      "The Division is:  2.0\n"
     ]
    }
   ],
   "source": [
    "# Division\n",
    "a = input('Enter a Number: ')\n",
    "\n",
    "b = input('Enter a Number: ')\n",
    "\n",
    "c = int(a) / int(b)\n",
    "\n",
    "print(\"The Division is: \",c)"
   ]
  }
 ],
 "metadata": {
  "kernelspec": {
   "display_name": "Python 3 (ipykernel)",
   "language": "python",
   "name": "python3"
  },
  "language_info": {
   "codemirror_mode": {
    "name": "ipython",
    "version": 3
   },
   "file_extension": ".py",
   "mimetype": "text/x-python",
   "name": "python",
   "nbconvert_exporter": "python",
   "pygments_lexer": "ipython3",
   "version": "3.9.12"
  }
 },
 "nbformat": 4,
 "nbformat_minor": 5
}
