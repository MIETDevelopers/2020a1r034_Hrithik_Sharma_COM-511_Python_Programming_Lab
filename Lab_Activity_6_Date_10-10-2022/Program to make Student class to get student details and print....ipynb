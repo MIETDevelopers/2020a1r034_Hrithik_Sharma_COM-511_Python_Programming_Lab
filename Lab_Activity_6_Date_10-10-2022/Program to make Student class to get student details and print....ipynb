{
 "cells": [
  {
   "cell_type": "code",
   "execution_count": 2,
   "id": "38b73bf3",
   "metadata": {},
   "outputs": [
    {
     "name": "stdout",
     "output_type": "stream",
     "text": [
      "How Many Students you Want To Input?2\n",
      "Enter Roll No:14\n",
      "Enter Name:hk\n",
      "Enter Physics Marks:15\n",
      "Enter Chemistry Marks:65\n",
      "Enter Maths Marks:85\n",
      "Enter Roll No:24\n",
      "Enter Name:kk\n",
      "Enter Physics Marks:45\n",
      "Enter Chemistry Marks:65\n",
      "Enter Maths Marks:85\n"
     ]
    }
   ],
   "source": [
    "# Program to make Student class to get student details and print...\n",
    "class Student:\n",
    "    def GetStudent(self):\n",
    "        self.__rollno = input(\"Enter Roll No:\")\n",
    "        self.__name = input(\"Enter Name:\")\n",
    "        self.__physicsMarks = int(input(\"Enter Physics Marks:\"))\n",
    "        self.__chemistyMarks = int(input(\"Enter Chemistry Marks:\"))\n",
    "        self.__mathMarks = int(input(\"Enter Maths Marks:\"))\n",
    "        return(self.__rollno)\n",
    "\n",
    "    def PutStudent(self):\n",
    "        print(self.__rollno,self.__name,((self.__physicsMarks+self.__chemistyMarks+self.__mathMarks)/3))\n",
    "    def Search(self,min,max):\n",
    "        per = (self.__physicsMarks+self.__mathMarks+self.__chemistyMarks)/3\n",
    "        if(per>=min and per<=max):\n",
    "            return True\n",
    "        else:\n",
    "            return False\n",
    "\n",
    "# creating a dictionary to store student record \n",
    "studentDict = dict()\n",
    "n = int(input(\"How Many Students you Want To Input?\"))\n",
    "for i in range(n):\n",
    " S = Student()\n",
    " rollno = S.GetStudent()\n",
    " studentDict.setdefault(rollno,S)\n",
    "\n"
   ]
  },
  {
   "cell_type": "code",
   "execution_count": null,
   "id": "700679df",
   "metadata": {},
   "outputs": [],
   "source": []
  }
 ],
 "metadata": {
  "kernelspec": {
   "display_name": "Python 3 (ipykernel)",
   "language": "python",
   "name": "python3"
  },
  "language_info": {
   "codemirror_mode": {
    "name": "ipython",
    "version": 3
   },
   "file_extension": ".py",
   "mimetype": "text/x-python",
   "name": "python",
   "nbconvert_exporter": "python",
   "pygments_lexer": "ipython3",
   "version": "3.9.12"
  }
 },
 "nbformat": 4,
 "nbformat_minor": 5
}
