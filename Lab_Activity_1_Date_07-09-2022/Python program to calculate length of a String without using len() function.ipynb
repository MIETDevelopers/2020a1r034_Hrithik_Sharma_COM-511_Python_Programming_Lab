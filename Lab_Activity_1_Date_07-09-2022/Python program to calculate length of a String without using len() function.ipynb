{
 "cells": [
  {
   "cell_type": "code",
   "execution_count": 4,
   "id": "f08bbb25",
   "metadata": {},
   "outputs": [
    {
     "name": "stdout",
     "output_type": "stream",
     "text": [
      "15\n"
     ]
    }
   ],
   "source": [
    "# Python program to calculate length of a String without using len() function\n",
    "def findLength(string):\n",
    "  \n",
    "    # Initialize count to zero\n",
    "    count = 0\n",
    "  \n",
    "    # Counting character in a string\n",
    "    for i in string:\n",
    "        count+= 1\n",
    "    # Returning count\n",
    "    return count\n",
    "\n",
    "string = \"Welcome_to_MIET\"\n",
    "print(findLength(string))"
   ]
  },
  {
   "cell_type": "code",
   "execution_count": null,
   "id": "5c78a957",
   "metadata": {},
   "outputs": [],
   "source": []
  }
 ],
 "metadata": {
  "kernelspec": {
   "display_name": "Python 3 (ipykernel)",
   "language": "python",
   "name": "python3"
  },
  "language_info": {
   "codemirror_mode": {
    "name": "ipython",
    "version": 3
   },
   "file_extension": ".py",
   "mimetype": "text/x-python",
   "name": "python",
   "nbconvert_exporter": "python",
   "pygments_lexer": "ipython3",
   "version": "3.9.12"
  }
 },
 "nbformat": 4,
 "nbformat_minor": 5
}
