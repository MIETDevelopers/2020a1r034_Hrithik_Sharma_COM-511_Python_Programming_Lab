{
 "cells": [
  {
   "cell_type": "code",
   "execution_count": 1,
   "id": "fde5a844",
   "metadata": {},
   "outputs": [
    {
     "name": "stdout",
     "output_type": "stream",
     "text": [
      "The list is : \n",
      "[11, 23, 41, 62, 89, 0, 10]\n",
      "The result after adding the digits is : \n",
      "[2, 5, 5, 8, 17, 0, 1]\n"
     ]
    }
   ],
   "source": [
    "#sum of number digits in list.\n",
    "my_list = [11, 23, 41, 62, 89, 0, 10]\n",
    "print(\"The list is : \")\n",
    "print(my_list)\n",
    "my_result = []\n",
    "for elem in my_list:\n",
    "   sum_val = 0\n",
    "   for digit in str(elem):\n",
    "      sum_val += int(digit)\n",
    "   my_result.append(sum_val)\n",
    "print (\"The result after adding the digits is : \" )\n",
    "print(my_result)"
   ]
  },
  {
   "cell_type": "code",
   "execution_count": null,
   "id": "9ff99642",
   "metadata": {},
   "outputs": [],
   "source": []
  }
 ],
 "metadata": {
  "kernelspec": {
   "display_name": "Python 3 (ipykernel)",
   "language": "python",
   "name": "python3"
  },
  "language_info": {
   "codemirror_mode": {
    "name": "ipython",
    "version": 3
   },
   "file_extension": ".py",
   "mimetype": "text/x-python",
   "name": "python",
   "nbconvert_exporter": "python",
   "pygments_lexer": "ipython3",
   "version": "3.9.12"
  }
 },
 "nbformat": 4,
 "nbformat_minor": 5
}
