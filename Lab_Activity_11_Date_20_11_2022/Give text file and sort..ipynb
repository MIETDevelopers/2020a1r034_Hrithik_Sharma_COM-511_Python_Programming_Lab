{
 "cells": [
  {
   "cell_type": "code",
   "execution_count": null,
   "id": "7a6dedb4",
   "metadata": {},
   "outputs": [],
   "source": [
    "fname = input(\"Enter file name: \")\n",
    "fh = open(fname)\n",
    "text =fh.read()\n",
    "print(text)\n",
    "text = text.lower()\n",
    "print(text)\n",
    "words =text.split()\n",
    "l=[]\n",
    "for word in words:\n",
    "    if word not in l:\n",
    "        l.append(word)\n",
    "l.sort()\n",
    "print(l)  "
   ]
  }
 ],
 "metadata": {
  "kernelspec": {
   "display_name": "Python 3 (ipykernel)",
   "language": "python",
   "name": "python3"
  },
  "language_info": {
   "codemirror_mode": {
    "name": "ipython",
    "version": 3
   },
   "file_extension": ".py",
   "mimetype": "text/x-python",
   "name": "python",
   "nbconvert_exporter": "python",
   "pygments_lexer": "ipython3",
   "version": "3.9.12"
  }
 },
 "nbformat": 4,
 "nbformat_minor": 5
}
