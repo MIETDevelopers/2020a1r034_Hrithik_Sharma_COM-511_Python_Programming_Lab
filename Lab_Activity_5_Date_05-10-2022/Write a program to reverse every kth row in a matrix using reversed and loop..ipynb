{
 "cells": [
  {
   "cell_type": "code",
   "execution_count": 1,
   "id": "ec0ab15a",
   "metadata": {},
   "outputs": [
    {
     "name": "stdout",
     "output_type": "stream",
     "text": [
      "Before reversing:  [[2, 3, 4], [5, 6, 7], [7, 8, 9]]\n",
      "after reversing kth row:  [[2, 3, 4], [5, 6, 7], [9, 8, 7]]\n"
     ]
    }
   ],
   "source": [
    "# Write a program to reverse every kth row in a matrix using reversed and loop.\n",
    "test_list=[[2,3,4],[5,6,7],[7,8,9]]\n",
    "print(\"Before reversing: \", str(test_list))\n",
    "k=3\n",
    "res=[]\n",
    "for i,l in enumerate(test_list):\n",
    "    if(i+1) % k==0:\n",
    "        res.append(list(reversed(l)))\n",
    "    else:    \n",
    "        res.append(l)\n",
    "print(\"after reversing kth row: \", str(res))"
   ]
  },
  {
   "cell_type": "code",
   "execution_count": null,
   "id": "73a8e239",
   "metadata": {},
   "outputs": [],
   "source": []
  }
 ],
 "metadata": {
  "kernelspec": {
   "display_name": "Python 3 (ipykernel)",
   "language": "python",
   "name": "python3"
  },
  "language_info": {
   "codemirror_mode": {
    "name": "ipython",
    "version": 3
   },
   "file_extension": ".py",
   "mimetype": "text/x-python",
   "name": "python",
   "nbconvert_exporter": "python",
   "pygments_lexer": "ipython3",
   "version": "3.9.12"
  }
 },
 "nbformat": 4,
 "nbformat_minor": 5
}
