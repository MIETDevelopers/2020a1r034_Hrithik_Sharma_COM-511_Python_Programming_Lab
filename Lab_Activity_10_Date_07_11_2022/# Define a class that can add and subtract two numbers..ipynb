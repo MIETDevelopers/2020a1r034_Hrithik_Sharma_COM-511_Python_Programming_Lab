{
 "cells": [
  {
   "cell_type": "code",
   "execution_count": 1,
   "id": "fd59eda5",
   "metadata": {},
   "outputs": [
    {
     "name": "stdout",
     "output_type": "stream",
     "text": [
      "10 + 6 = 16\n",
      "10 - 6 = 4\n",
      "Pi for c1:3.14 and c2:3.14\n",
      "Radius for c1:4 and c2:10\n",
      "Height for c1:20 and c2:50\n",
      "Pi for both c1 and c2 is: 3.14\n",
      "Volume of Cylinder: 100.48\n",
      "This is a Cylinder class that computes the volume using Pi=3.14\n",
      "This is a Cylinder class that computes the volume using Pi=3.14\n"
     ]
    }
   ],
   "source": [
    "#Define a class that can add and subtract two numbers.\n",
    "class add_sub:\n",
    "    def __init__(self, x, y):\n",
    "        self.x = x\n",
    "        self.y = y\n",
    "    # define 'add' method\n",
    "    def add(self):\n",
    "        return self.x + self.y\n",
    "    # define 'subtract' method\n",
    "    def subtract(self):\n",
    "        return self.x - self.y\n",
    " \n",
    "if __name__ == '__main__':\n",
    "    x = 10\n",
    "    y = 6\n",
    "    # create an instance \n",
    "    opp = add_sub(x,y)\n",
    " \n",
    "    # call add method\n",
    "    print(f'{x} + {y} = {opp.add()}')\n",
    "    #print(opp.add())\n",
    " \n",
    "    # call subtract method\n",
    "    print(f'{x} - {y} = {opp.subtract()}')\n",
    "    \n",
    "#Define class and instance attributes\n",
    "class Cylinder:\n",
    "    # class attribute\n",
    "    pi = 3.14\n",
    "    def __init__(self, radius, height):\n",
    "        # instance variables\n",
    "        self.radius = radius\n",
    "        self.height = height\n",
    "         \n",
    "if __name__ == '__main__':\n",
    "    c1 = Cylinder(4, 20)\n",
    "    c2 = Cylinder(10, 50)\n",
    " \n",
    "    print(f'Pi for c1:{c1.pi} and c2:{c2.pi}')\n",
    "    print(f'Radius for c1:{c1.radius} and c2:{c2.radius}')\n",
    "    print(f'Height for c1:{c1.height} and c2:{c2.height}')\n",
    "    print(f'Pi for both c1 and c2 is: {Cylinder.pi}')\n",
    "   \n",
    "# Define class and instance methods   \n",
    "class Cylinder:\n",
    "    # class attribute\n",
    "    pi = 3.14\n",
    "    def __init__(self, radius, height):\n",
    "        # instance variables\n",
    "        self.radius = radius\n",
    "        self.height = height\n",
    " \n",
    "    # instance method\n",
    "    def volume(self):\n",
    "        return Cylinder.pi * self.radius**2 * self.height\n",
    " \n",
    "    # class method\n",
    "    @classmethod\n",
    "    def description(cls):\n",
    "        return f'This is a Cylinder class that computes the volume using Pi={cls.pi}'\n",
    "         \n",
    "if __name__ == '__main__':\n",
    "    c1 = Cylinder(4, 2) # create an instance/object\n",
    " \n",
    "    print(f'Volume of Cylinder: {c1.volume()}') # access instance method \n",
    "    print(Cylinder.description()) # access class method via class\n",
    "    print(c1.description()) # access class method via instance"
   ]
  },
  {
   "cell_type": "code",
   "execution_count": null,
   "id": "872cddec",
   "metadata": {},
   "outputs": [],
   "source": []
  }
 ],
 "metadata": {
  "kernelspec": {
   "display_name": "Python 3 (ipykernel)",
   "language": "python",
   "name": "python3"
  },
  "language_info": {
   "codemirror_mode": {
    "name": "ipython",
    "version": 3
   },
   "file_extension": ".py",
   "mimetype": "text/x-python",
   "name": "python",
   "nbconvert_exporter": "python",
   "pygments_lexer": "ipython3",
   "version": "3.9.12"
  }
 },
 "nbformat": 4,
 "nbformat_minor": 5
}
