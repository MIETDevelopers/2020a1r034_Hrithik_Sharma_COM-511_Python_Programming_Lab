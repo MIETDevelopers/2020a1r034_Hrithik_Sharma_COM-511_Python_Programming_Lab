{
 "cells": [
  {
   "cell_type": "code",
   "execution_count": 7,
   "id": "1df0635c",
   "metadata": {},
   "outputs": [
    {
     "name": "stdout",
     "output_type": "stream",
     "text": [
      "[11, 12, 22, 25, 34, 64, 90]\n"
     ]
    }
   ],
   "source": [
    "# Merge Sort\n",
    "def merge_sort(unsorted_list):\n",
    "   if len(unsorted_list) <= 1:\n",
    "      return unsorted_list\n",
    "# Find the middle point and devide it\n",
    "   middle = len(unsorted_list) // 2\n",
    "   left_list = unsorted_list[:middle]\n",
    "   right_list = unsorted_list[middle:]\n",
    "   left_list = merge_sort(left_list)\n",
    "   right_list = merge_sort(right_list)\n",
    "   return list(merge(left_list, right_list))\n",
    "# Merge the sorted halves\n",
    "def merge(left_half,right_half):\n",
    "   res = []\n",
    "   while len(left_half) != 0 and len(right_half) != 0:\n",
    "      if left_half[0] < right_half[0]:\n",
    "         res.append(left_half[0])\n",
    "         left_half.remove(left_half[0])\n",
    "      else:\n",
    "         res.append(right_half[0])\n",
    "         right_half.remove(right_half[0])\n",
    "   if len(left_half) == 0:\n",
    "      res = res + right_half\n",
    "   else:\n",
    "      res = res + left_half\n",
    "   return res\n",
    "unsorted_list = [64, 34, 25, 12, 22, 11, 90]\n",
    "print(merge_sort(unsorted_list))"
   ]
  },
  {
   "cell_type": "code",
   "execution_count": 8,
   "id": "b9db1f18",
   "metadata": {},
   "outputs": [
    {
     "name": "stdout",
     "output_type": "stream",
     "text": [
      "[19, 2, 31, 45, 30, 11, 27, 121]\n"
     ]
    }
   ],
   "source": [
    "# Insertion Sort\n",
    "def insertion_sort(InputList):\n",
    "   for i in range(1, len(InputList)):\n",
    "      j = i-1\n",
    "      nxt_element = InputList[i]\n",
    "# Compare the current element with next one\n",
    "   while (InputList[j] > nxt_element) and (j >= 0):\n",
    "      InputList[j+1] = InputList[j]\n",
    "      j=j-1\n",
    "   InputList[j+1] = nxt_element\n",
    "list = [19,2,31,45,30,11,121,27]\n",
    "insertion_sort(list)\n",
    "print(list)"
   ]
  },
  {
   "cell_type": "code",
   "execution_count": 9,
   "id": "a0bc5dfc",
   "metadata": {},
   "outputs": [
    {
     "name": "stdout",
     "output_type": "stream",
     "text": [
      "[2, 6, 11, 19, 27, 31, 45, 121]\n"
     ]
    }
   ],
   "source": [
    "# Bubble Sort\n",
    "def bubblesort(list):\n",
    "\n",
    "# Swap the elements to arrange in order\n",
    "   for iter_num in range(len(list)-1,0,-1):\n",
    "      for idx in range(iter_num):\n",
    "         if list[idx]>list[idx+1]:\n",
    "            temp = list[idx]\n",
    "            list[idx] = list[idx+1]\n",
    "            list[idx+1] = temp\n",
    "list = [19,2,31,45,6,11,121,27]\n",
    "bubblesort(list)\n",
    "print(list)"
   ]
  },
  {
   "cell_type": "code",
   "execution_count": null,
   "id": "b468cfed",
   "metadata": {},
   "outputs": [],
   "source": []
  }
 ],
 "metadata": {
  "kernelspec": {
   "display_name": "Python 3 (ipykernel)",
   "language": "python",
   "name": "python3"
  },
  "language_info": {
   "codemirror_mode": {
    "name": "ipython",
    "version": 3
   },
   "file_extension": ".py",
   "mimetype": "text/x-python",
   "name": "python",
   "nbconvert_exporter": "python",
   "pygments_lexer": "ipython3",
   "version": "3.9.12"
  }
 },
 "nbformat": 4,
 "nbformat_minor": 5
}
