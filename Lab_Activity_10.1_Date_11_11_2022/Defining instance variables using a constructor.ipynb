{
 "cells": [
  {
   "cell_type": "code",
   "execution_count": 1,
   "id": "906f4d92",
   "metadata": {},
   "outputs": [
    {
     "name": "stdout",
     "output_type": "stream",
     "text": [
      "Rodger details:\n",
      "Rodger is a dog\n",
      "Breed:  Pug\n",
      "Color:  brown\n",
      "\n",
      "Buzo details:\n",
      "Buzo is a dog\n",
      "Breed:  Bulldog\n",
      "Color:  black\n",
      "\n",
      "Accessing class variable using class name\n",
      "dog\n",
      "brown\n"
     ]
    }
   ],
   "source": [
    "#Defining instance variables using a constructor.\n",
    "class Dog:\n",
    " \n",
    "    # Class Variable\n",
    "    animal = 'dog'\n",
    " \n",
    "    # The init method or constructor\n",
    "    def __init__(self, breed, color):\n",
    " \n",
    "        # Instance Variable\n",
    "        self.breed = breed\n",
    "        self.color = color\n",
    " \n",
    " \n",
    "# Objects of Dog class\n",
    "Rodger = Dog(\"Pug\", \"brown\")\n",
    "Buzo = Dog(\"Bulldog\", \"black\")\n",
    " \n",
    "print('Rodger details:')\n",
    "print('Rodger is a', Rodger.animal)\n",
    "print('Breed: ', Rodger.breed)\n",
    "print('Color: ', Rodger.color)\n",
    " \n",
    "print('\\nBuzo details:')\n",
    "print('Buzo is a', Buzo.animal)\n",
    "print('Breed: ', Buzo.breed)\n",
    "print('Color: ', Buzo.color)\n",
    " \n",
    "# Class variables can be accessed using class\n",
    "# name also\n",
    "print(\"\\nAccessing class variable using class name\")\n",
    "print(Dog.animal)\n",
    "\n",
    "#Defining instance variables using the normal method.\n",
    "class Dog:\n",
    " \n",
    "    # Class Variable\n",
    "    animal = 'dog'\n",
    " \n",
    "    # The init method or constructor\n",
    "    def __init__(self, breed):\n",
    " \n",
    "        # Instance Variable\n",
    "        self.breed = breed\n",
    " \n",
    "    # Adds an instance variable\n",
    "    def setColor(self, color):\n",
    "        self.color = color\n",
    " \n",
    "    # Retrieves instance variable\n",
    "    def getColor(self):\n",
    "        return self.color\n",
    "Rodger = Dog(\"pug\")\n",
    "Rodger.setColor(\"brown\")\n",
    "print(Rodger.getColor())"
   ]
  },
  {
   "cell_type": "code",
   "execution_count": null,
   "id": "7621694d",
   "metadata": {},
   "outputs": [],
   "source": []
  }
 ],
 "metadata": {
  "kernelspec": {
   "display_name": "Python 3 (ipykernel)",
   "language": "python",
   "name": "python3"
  },
  "language_info": {
   "codemirror_mode": {
    "name": "ipython",
    "version": 3
   },
   "file_extension": ".py",
   "mimetype": "text/x-python",
   "name": "python",
   "nbconvert_exporter": "python",
   "pygments_lexer": "ipython3",
   "version": "3.9.12"
  }
 },
 "nbformat": 4,
 "nbformat_minor": 5
}
