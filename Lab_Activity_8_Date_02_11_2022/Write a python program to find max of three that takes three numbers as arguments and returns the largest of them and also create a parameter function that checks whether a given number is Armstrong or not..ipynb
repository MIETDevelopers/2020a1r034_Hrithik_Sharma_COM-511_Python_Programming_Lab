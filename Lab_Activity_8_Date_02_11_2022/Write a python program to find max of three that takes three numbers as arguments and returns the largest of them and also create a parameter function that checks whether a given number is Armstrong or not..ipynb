{
 "cells": [
  {
   "cell_type": "code",
   "execution_count": 1,
   "id": "35d0e6af",
   "metadata": {},
   "outputs": [
    {
     "name": "stdout",
     "output_type": "stream",
     "text": [
      "14\n",
      "14\n",
      "14\n",
      "True\n",
      "False\n"
     ]
    }
   ],
   "source": [
    "#Create a function max of three that takes three numbers as arguments and returns the\n",
    "#largest of them and also create a parameter function that checks whether a given number\n",
    "#is Armstrong or not.\n",
    "\n",
    "#Program for largest number\n",
    "#Method 1 (Simple)\n",
    "#Python program to find the largest\n",
    "#number among the three numbers\n",
    "def maximum(a, b, c):\n",
    "   if (a >= b) and (a >= c):\n",
    "     largest = a\n",
    "   elif (b >= a) and (b >= c):\n",
    "     largest = b\n",
    "   else:\n",
    "     largest = c\n",
    "   return largest\n",
    "a = 10\n",
    "b = 14\n",
    "c = 12\n",
    "print(maximum(a, b, c))\n",
    "\n",
    "#Method 2 (Using List)\n",
    "#Python program to find the largest number\n",
    "#among the three numbers using library function\n",
    "def maximum(a, b, c):\n",
    "    list = [a, b, c]\n",
    "    return max(list)\n",
    "a = 10\n",
    "b = 14\n",
    "c = 12\n",
    "print(maximum(a, b, c))\n",
    "\n",
    "#Method 3 (Using max function)\n",
    "\n",
    "#Python program to find the largest number\n",
    "#among the three numbers using library function\n",
    "a = 10\n",
    "b = 14\n",
    "c = 12\n",
    "print(max(a, b, c))\n",
    "\n",
    "#        Program for Armstrong Numbers\n",
    "def power(x, y):  \n",
    "    if y == 0:\n",
    "        return 1\n",
    "    if y % 2 == 0:\n",
    "        return power(x, y // 2) * power(x, y // 2)   \n",
    "    return x * power(x, y // 2) * power(x, y // 2)\n",
    "#Function to calculate order of the number\n",
    "def order(x):\n",
    "#Variable to store of the number\n",
    "    n = 0\n",
    "    while (x != 0):\n",
    "        n = n + 1\n",
    "        x = x // 10\n",
    "    return n\n",
    " \n",
    "#Function to check whether the given\n",
    "#number is Armstrong number or not\n",
    "def isArmstrong(x):    \n",
    "    n = order(x)\n",
    "    temp = x\n",
    "    sum1 = 0   \n",
    "    while (temp != 0):\n",
    "        r = temp % 10\n",
    "        sum1 = sum1 + power(r, n)\n",
    "        temp = temp // 10\n",
    "    # If condition satisfies\n",
    "    return (sum1 == x)\n",
    "x = 153\n",
    "print(isArmstrong(x))\n",
    " \n",
    "x = 1253\n",
    "print(isArmstrong(x))"
   ]
  },
  {
   "cell_type": "code",
   "execution_count": null,
   "id": "567d3b0e",
   "metadata": {},
   "outputs": [],
   "source": []
  }
 ],
 "metadata": {
  "kernelspec": {
   "display_name": "Python 3 (ipykernel)",
   "language": "python",
   "name": "python3"
  },
  "language_info": {
   "codemirror_mode": {
    "name": "ipython",
    "version": 3
   },
   "file_extension": ".py",
   "mimetype": "text/x-python",
   "name": "python",
   "nbconvert_exporter": "python",
   "pygments_lexer": "ipython3",
   "version": "3.9.12"
  }
 },
 "nbformat": 4,
 "nbformat_minor": 5
}
