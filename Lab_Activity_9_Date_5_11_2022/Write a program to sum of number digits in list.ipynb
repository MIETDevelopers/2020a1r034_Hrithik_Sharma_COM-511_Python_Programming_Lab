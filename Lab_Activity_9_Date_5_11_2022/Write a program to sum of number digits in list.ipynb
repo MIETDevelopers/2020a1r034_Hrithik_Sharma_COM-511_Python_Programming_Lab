{
 "cells": [
  {
   "cell_type": "code",
   "execution_count": 1,
   "id": "fd2fe485",
   "metadata": {},
   "outputs": [
    {
     "name": "stdout",
     "output_type": "stream",
     "text": [
      "The original list is : [12, 67, 98, 34]\n",
      "List Integer Summation : [3, 13, 17, 7]\n"
     ]
    }
   ],
   "source": [
    "# Python3 code to demonstrate\n",
    "# Sum of number digits in List\n",
    "# using loop + str()\n",
    "\n",
    "# Initializing list\n",
    "test_list = [12, 67, 98, 34]\n",
    "\n",
    "# printing original list\n",
    "print(\"The original list is : \" + str(test_list))\n",
    "\n",
    "# Sum of number digits in List\n",
    "# using loop + str()\n",
    "res = []\n",
    "for ele in test_list:\n",
    "    sum = 0\n",
    "    for digit in str(ele):\n",
    "        sum += int(digit)\n",
    "    res.append(sum)\n",
    "# printing result\n",
    "print (\"List Integer Summation : \" + str(res))"
   ]
  },
  {
   "cell_type": "code",
   "execution_count": null,
   "id": "d68506ba",
   "metadata": {},
   "outputs": [],
   "source": []
  }
 ],
 "metadata": {
  "kernelspec": {
   "display_name": "Python 3 (ipykernel)",
   "language": "python",
   "name": "python3"
  },
  "language_info": {
   "codemirror_mode": {
    "name": "ipython",
    "version": 3
   },
   "file_extension": ".py",
   "mimetype": "text/x-python",
   "name": "python",
   "nbconvert_exporter": "python",
   "pygments_lexer": "ipython3",
   "version": "3.9.12"
  }
 },
 "nbformat": 4,
 "nbformat_minor": 5
}
