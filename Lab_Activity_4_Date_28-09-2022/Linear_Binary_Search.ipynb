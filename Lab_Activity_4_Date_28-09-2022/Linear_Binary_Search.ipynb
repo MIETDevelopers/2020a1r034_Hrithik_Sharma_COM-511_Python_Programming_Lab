{
 "cells": [
  {
   "cell_type": "code",
   "execution_count": 1,
   "id": "0075f09e",
   "metadata": {},
   "outputs": [
    {
     "name": "stdout",
     "output_type": "stream",
     "text": [
      "Element found at index:  4\n"
     ]
    }
   ],
   "source": [
    "# Linear Search\n",
    "def linear_Search(list1, n, key):\n",
    "# Searching list1 sequentially\n",
    "    for i in range(0, n):\n",
    "        if (list1[i] == key):\n",
    "          return i\n",
    "    return -1\n",
    "list1 = [1 ,3, 5, 4, 7, 9]\n",
    "key = 7\n",
    "n = len(list1)\n",
    "res = linear_Search(list1, n, key)\n",
    "if(res == -1):\n",
    "        print(\"Element not found\")\n",
    "else:\n",
    "       print(\"Element found at index: \", res)"
   ]
  },
  {
   "cell_type": "code",
   "execution_count": 2,
   "id": "e843f727",
   "metadata": {},
   "outputs": [
    {
     "name": "stdout",
     "output_type": "stream",
     "text": [
      "Element is present at index 4\n",
      "Element is present at index 4\n"
     ]
    }
   ],
   "source": [
    "#Binary Search\n",
    "#1.Recursive Binary Search\n",
    "def binary_search(arr, low, high, x):\n",
    " \n",
    "# Check base case\n",
    "    if high >= low:\n",
    "        mid = (high + low) // 2\n",
    "# If element is present at the middle itself\n",
    "        if arr[mid] == x:\n",
    "            return mid\n",
    "# If element is smaller than mid, then it can only\n",
    "# be present in left subarray\n",
    "        elif arr[mid] > x:\n",
    "            return binary_search(arr, low, mid - 1, x)\n",
    " \n",
    "# Else the element can only be present in right subarray\n",
    "        else:\n",
    "            return binary_search(arr, mid + 1, high, x)\n",
    "    else:\n",
    "# Element is not present in the array\n",
    "        return -1\n",
    " \n",
    "# Test array\n",
    "arr = [ 2, 3, 4, 10, 40 ]\n",
    "x = 40\n",
    " \n",
    "# Function call\n",
    "result = binary_search(arr, 0, len(arr)-1, x)\n",
    "if result != -1:\n",
    "    print(\"Element is present at index\", str(result))\n",
    "else:\n",
    "    print(\"Element is not present in array\")\n",
    "    \n",
    "#2.Iterative Binary Search\n",
    "def binary_search(arr, x):\n",
    "    low = 0\n",
    "    high = len(arr) - 1\n",
    "    mid = 0\n",
    "    while low <= high:\n",
    "        mid = (high + low) // 2\n",
    "# If x is greater, ignore left half\n",
    "        if arr[mid] < x:\n",
    "            low = mid + 1\n",
    "# If x is smaller, ignore right half\n",
    "        elif arr[mid] > x:\n",
    "            high = mid - 1\n",
    "# means x is present at mid\n",
    "        else:\n",
    "            return mid\n",
    "# If we reach here, then the element was not present\n",
    "    return -1\n",
    "# Test array\n",
    "arr = [ 2, 3, 4, 10, 40 ]\n",
    "x = 40\n",
    "# Function call\n",
    "result = binary_search(arr, x)\n",
    "if result != -1:\n",
    "    print(\"Element is present at index\", str(result))\n",
    "else:\n",
    "    print(\"Element is not present in array\")"
   ]
  },
  {
   "cell_type": "code",
   "execution_count": null,
   "id": "fb8941bd",
   "metadata": {},
   "outputs": [],
   "source": []
  }
 ],
 "metadata": {
  "kernelspec": {
   "display_name": "Python 3 (ipykernel)",
   "language": "python",
   "name": "python3"
  },
  "language_info": {
   "codemirror_mode": {
    "name": "ipython",
    "version": 3
   },
   "file_extension": ".py",
   "mimetype": "text/x-python",
   "name": "python",
   "nbconvert_exporter": "python",
   "pygments_lexer": "ipython3",
   "version": "3.9.12"
  }
 },
 "nbformat": 4,
 "nbformat_minor": 5
}
