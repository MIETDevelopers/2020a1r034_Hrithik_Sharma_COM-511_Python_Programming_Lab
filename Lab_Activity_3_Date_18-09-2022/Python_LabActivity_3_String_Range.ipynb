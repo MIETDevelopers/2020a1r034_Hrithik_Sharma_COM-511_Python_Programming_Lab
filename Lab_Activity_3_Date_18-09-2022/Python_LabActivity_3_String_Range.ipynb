{
 "cells": [
  {
   "cell_type": "code",
   "execution_count": null,
   "metadata": {},
   "outputs": [],
   "source": [
    "'''\n",
    "Consider the string “Welcome to Python world”. Perform the following operations:\n",
    "A. Count the number of alphabets in the given string.\n",
    "B. To extract characters in the given, range from the given string.\n",
    "C. Check if the string is alphanumeric or not.\n",
    "'''"
   ]
  },
  {
   "cell_type": "markdown",
   "metadata": {},
   "source": [
    "# A. Count the number of alphabets in the given string"
   ]
  },
  {
   "cell_type": "code",
   "execution_count": 2,
   "metadata": {},
   "outputs": [
    {
     "name": "stdout",
     "output_type": "stream",
     "text": [
      "The original string is: Welcome to Python World\n",
      "Count of Alphabets:20\n"
     ]
    }
   ],
   "source": [
    "# Using isalpha()+len()\n",
    "# intializing string\n",
    "new_str=\"Welcome to Python World\"\n",
    "# printing original string\n",
    "print(\"The original string is: \"+str(new_str))\n",
    "# isalpha() for computation of alphabets\n",
    "res=len([ele for ele in new_str if ele.isalpha()])\n",
    "# printing result\n",
    "print(\"Count of Alphabets:\"+str(res))"
   ]
  },
  {
   "cell_type": "markdown",
   "metadata": {},
   "source": [
    "# B. To extract characters in the given, range from the given string"
   ]
  },
  {
   "cell_type": "code",
   "execution_count": 5,
   "metadata": {},
   "outputs": [
    {
     "name": "stdout",
     "output_type": "stream",
     "text": [
      "The original list is: ['Welcome', 'to', 'Python', 'World']\n",
      "Range characters: omet\n"
     ]
    }
   ],
   "source": [
    "test_list=[\"Welcome\",\"to\",\"Python\",\"World\"]\n",
    "print(\"The original list is: \"+str(test_list))\n",
    "strt,end=4,8\n",
    "res=\"\".join([sub for sub in test_list])[strt:end]\n",
    "print(\"Range characters: \"+str(res))"
   ]
  },
  {
   "cell_type": "markdown",
   "metadata": {},
   "source": [
    "# C. Check if the string is alphanumeric or not"
   ]
  },
  {
   "cell_type": "code",
   "execution_count": 6,
   "metadata": {},
   "outputs": [
    {
     "name": "stdout",
     "output_type": "stream",
     "text": [
      "False\n"
     ]
    }
   ],
   "source": [
    "string=\"Welcome to Python World\"\n",
    "print(string.isalnum())"
   ]
  }
 ],
 "metadata": {
  "kernelspec": {
   "display_name": "Python 3 (ipykernel)",
   "language": "python",
   "name": "python3"
  },
  "language_info": {
   "codemirror_mode": {
    "name": "ipython",
    "version": 3
   },
   "file_extension": ".py",
   "mimetype": "text/x-python",
   "name": "python",
   "nbconvert_exporter": "python",
   "pygments_lexer": "ipython3",
   "version": "3.9.12"
  }
 },
 "nbformat": 4,
 "nbformat_minor": 4
}
