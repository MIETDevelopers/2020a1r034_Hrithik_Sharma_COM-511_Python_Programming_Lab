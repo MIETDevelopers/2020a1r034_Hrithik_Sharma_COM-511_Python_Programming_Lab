{
 "cells": [
  {
   "cell_type": "code",
   "execution_count": 3,
   "id": "79bd5b53",
   "metadata": {},
   "outputs": [
    {
     "name": "stdout",
     "output_type": "stream",
     "text": [
      "Enter the first side:5\n",
      "Enter the second side:9\n",
      "Enter the third side:8\n",
      "It is not a right-angled triangle.\n",
      "The area of the triangle is 19.90\n"
     ]
    }
   ],
   "source": [
    "#write a program that accepts the length of three sides of triangle as inputs. \n",
    "#the program should indicate whether or not the triangle is a right-angld trigangle using pythagorean theorem. \n",
    "#also find out its area usig heron's formula\n",
    "x = int(input(\"Enter the first side:\"))\n",
    "y = int(input(\"Enter the second side:\"))\n",
    "z = int(input(\"Enter the third side:\"))\n",
    "if x**2+y**2==z**2:\n",
    "    print('It is a right-angled triangle.')\n",
    "else:\n",
    "    print('It is not a right-angled triangle.')\n",
    "s = (x + y + z) / 2 \n",
    "area = (s*(s-x)*(s-y)*(s-z)) ** 0.5  \n",
    "print('The area of the triangle is %0.2f' %area)"
   ]
  },
  {
   "cell_type": "code",
   "execution_count": null,
   "id": "037c38a0",
   "metadata": {},
   "outputs": [],
   "source": [
    "S"
   ]
  }
 ],
 "metadata": {
  "kernelspec": {
   "display_name": "Python 3 (ipykernel)",
   "language": "python",
   "name": "python3"
  },
  "language_info": {
   "codemirror_mode": {
    "name": "ipython",
    "version": 3
   },
   "file_extension": ".py",
   "mimetype": "text/x-python",
   "name": "python",
   "nbconvert_exporter": "python",
   "pygments_lexer": "ipython3",
   "version": "3.9.12"
  }
 },
 "nbformat": 4,
 "nbformat_minor": 5
}
