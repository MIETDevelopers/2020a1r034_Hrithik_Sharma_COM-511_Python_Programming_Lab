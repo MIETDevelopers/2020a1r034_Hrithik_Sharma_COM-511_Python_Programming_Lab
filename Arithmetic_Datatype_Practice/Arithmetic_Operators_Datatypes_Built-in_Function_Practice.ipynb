{
 "cells": [
  {
   "cell_type": "code",
   "execution_count": 2,
   "id": "3d3a2479",
   "metadata": {},
   "outputs": [
    {
     "name": "stdout",
     "output_type": "stream",
     "text": [
      "What is your name? mosh\n",
      "What is your favourite colour? red\n",
      "Hi,mosh\n",
      "Your favourite colour is red\n",
      "Mosh Likes Blue\n",
      "mosh likes red\n"
     ]
    }
   ],
   "source": [
    "# # Variable and datatype  and input Practising\n",
    "name = input('What is your name? ')\n",
    "colour = input('What is your favourite colour? ')\n",
    "print(\"Hi,\" + name)\n",
    "print(\"Your favourite colour is \" + colour)\n",
    "print(\"Mosh Likes Blue\")\n",
    "print( name + ' likes ' + colour)"
   ]
  },
  {
   "cell_type": "code",
   "execution_count": 3,
   "id": "660e3249",
   "metadata": {},
   "outputs": [
    {
     "name": "stdout",
     "output_type": "stream",
     "text": [
      "What is your birth year: 2001\n",
      "<class 'int'>\n",
      "21\n"
     ]
    }
   ],
   "source": [
    "# built - in function\n",
    "birth_year = input('What is your birth year: ')\n",
    "age = 2022 - int(birth_year)\n",
    "print(type(age))\n",
    "print(age)\n"
   ]
  },
  {
   "cell_type": "code",
   "execution_count": 4,
   "id": "7f9b6363",
   "metadata": {},
   "outputs": [
    {
     "name": "stdout",
     "output_type": "stream",
     "text": [
      "What is your weight in pounds: 60\n",
      "27.0\n"
     ]
    }
   ],
   "source": [
    "# Built in function\n",
    "weight = input('What is your weight in pounds: ')\n",
    "weight_in_kilos = float(weight) * 0.45\n",
    "print(weight_in_kilos)\n"
   ]
  },
  {
   "cell_type": "code",
   "execution_count": 5,
   "id": "d005d8a9",
   "metadata": {},
   "outputs": [
    {
     "name": "stdout",
     "output_type": "stream",
     "text": [
      "69\n",
      "103\n"
     ]
    }
   ],
   "source": [
    "# Variable\n",
    "var = 69\n",
    "print(var)\n",
    "var = var + 34\n",
    "print(var)\n"
   ]
  },
  {
   "cell_type": "code",
   "execution_count": 6,
   "id": "a1a27d6c",
   "metadata": {},
   "outputs": [
    {
     "name": "stdout",
     "output_type": "stream",
     "text": [
      "8\n",
      "20\n",
      "5.0\n",
      "5\n",
      "100\n"
     ]
    }
   ],
   "source": [
    "# Arithmetic Operators\n",
    "a = 10\n",
    "b = 2\n",
    "print(a - b)\n",
    "a = 10\n",
    "b = 2\n",
    "print(a * b)\n",
    "a = 10\n",
    "b = 2\n",
    "print(a / b)\n",
    "a = 10\n",
    "b = 2\n",
    "print(a // b)\n",
    "a = 10\n",
    "b = 2\n",
    "print(a ** b)\n"
   ]
  },
  {
   "cell_type": "code",
   "execution_count": 7,
   "id": "0ffa3ac3",
   "metadata": {},
   "outputs": [
    {
     "name": "stdout",
     "output_type": "stream",
     "text": [
      "Enter the integer: 5\n",
      "The square of  5 number is:25\n"
     ]
    }
   ],
   "source": [
    "# Square\n",
    "n = int(input(\"Enter the integer: \"))\n",
    "square = n * n\n",
    "print(f\"The square of  {n} number is:{square}\")\n"
   ]
  },
  {
   "cell_type": "code",
   "execution_count": 9,
   "id": "f462b358",
   "metadata": {},
   "outputs": [
    {
     "name": "stdout",
     "output_type": "stream",
     "text": [
      "7\n"
     ]
    }
   ],
   "source": [
    "# Built-in function -Sum\n",
    "a = 3\n",
    "b = 4\n",
    "c = sum((a, b))\n",
    "print(c)"
   ]
  },
  {
   "cell_type": "code",
   "execution_count": 10,
   "id": "0cabcd99",
   "metadata": {},
   "outputs": [
    {
     "name": "stdout",
     "output_type": "stream",
     "text": [
      "Enter the value: 5\n",
      "Enter the value: 10\n",
      "15\n",
      "-5\n",
      "50\n",
      "0.5\n",
      "9765625\n",
      "0\n"
     ]
    }
   ],
   "source": [
    "# Arithmetic Operators\n",
    "a = input(\"Enter the value: \")\n",
    "b = input(\"Enter the value: \")\n",
    "sum = int(a) + int(b)\n",
    "print(sum)\n",
    "diff = int(a) - int(b)\n",
    "print(diff)\n",
    "mup = int(a) * int(b)\n",
    "print(mup)\n",
    "divide = int(a) / int(b)\n",
    "print(divide)\n",
    "d = int(a) ** int(b)\n",
    "print(d)\n",
    "f = int(a) // int(b)\n",
    "print(f)\n"
   ]
  },
  {
   "cell_type": "code",
   "execution_count": null,
   "id": "86757519",
   "metadata": {},
   "outputs": [],
   "source": []
  }
 ],
 "metadata": {
  "kernelspec": {
   "display_name": "Python 3 (ipykernel)",
   "language": "python",
   "name": "python3"
  },
  "language_info": {
   "codemirror_mode": {
    "name": "ipython",
    "version": 3
   },
   "file_extension": ".py",
   "mimetype": "text/x-python",
   "name": "python",
   "nbconvert_exporter": "python",
   "pygments_lexer": "ipython3",
   "version": "3.9.12"
  }
 },
 "nbformat": 4,
 "nbformat_minor": 5
}
