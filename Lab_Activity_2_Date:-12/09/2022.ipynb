{
  "metadata": {
    "language_info": {
      "codemirror_mode": {
        "name": "python",
        "version": 3
      },
      "file_extension": ".py",
      "mimetype": "text/x-python",
      "name": "python",
      "nbconvert_exporter": "python",
      "pygments_lexer": "ipython3",
      "version": "3.8"
    },
    "kernelspec": {
      "name": "python",
      "display_name": "Python (Pyodide)",
      "language": "python"
    }
  },
  "nbformat_minor": 4,
  "nbformat": 4,
  "cells": [
    {
      "cell_type": "markdown",
      "source": "# List Iteration",
      "metadata": {}
    },
    {
      "cell_type": "code",
      "source": "# Method 1: Using For loop \n# Python3 code to iterate over a list\nlist = [1, 3, 5, 7, 9]\n# Using for loop\nfor i in list:\n    print(i)",
      "metadata": {
        "trusted": true
      },
      "execution_count": 13,
      "outputs": [
        {
          "name": "stdout",
          "text": "1\n3\n5\n7\n9\n",
          "output_type": "stream"
        }
      ]
    },
    {
      "cell_type": "code",
      "source": "# Method 2: For loop and range()\n# In case we want to use the traditional for loop which iterates from number x to number y\n# Python3 code to iterate over a list\n\nlist = [1, 3, 5, 7, 9]\n# Getting length of list\nlength = len(list)\nfor i in range(length):\n    print(list[i])",
      "metadata": {
        "trusted": true
      },
      "execution_count": 40,
      "outputs": [
        {
          "name": "stdout",
          "text": "1\n3\n5\n7\n9\n",
          "output_type": "stream"
        }
      ]
    },
    {
      "cell_type": "code",
      "source": "# Method 3: Using while loop \n# Python3 code to iterate over a list\n\nlist = [1, 3, 5, 7, 9]\n# Getting length of list\nlength = len(list)\ni = 0\n# Iterating using while loop\nwhile i<length:\n    print(list[i])\n    i+=1",
      "metadata": {
        "trusted": true
      },
      "execution_count": 39,
      "outputs": [
        {
          "name": "stdout",
          "text": "1\n3\n5\n7\n9\n",
          "output_type": "stream"
        }
      ]
    },
    {
      "cell_type": "code",
      "source": "# Method 4: Using list comprehension (Possibly the most concrete way)\n# Python3 code to iterate over a list\n\nlist = [1, 3, 5, 7, 9]\n# Using list comprehension\n[print(i) for i in list]",
      "metadata": {
        "trusted": true
      },
      "execution_count": 18,
      "outputs": [
        {
          "name": "stdout",
          "text": "1\n3\n5\n7\n9\n",
          "output_type": "stream"
        },
        {
          "execution_count": 18,
          "output_type": "execute_result",
          "data": {
            "text/plain": "[None, None, None, None, None]"
          },
          "metadata": {}
        }
      ]
    },
    {
      "cell_type": "markdown",
      "source": "# Dictionary Iteration",
      "metadata": {}
    },
    {
      "cell_type": "code",
      "source": "# Example 1: Access key using the build .keys() \n# Python code to iterate through all values in a dictionary\n\nstatesAndCapitals={\n    'Gujarat':'Gandhinagar',\n    'Maharashtra':'Mumbai',\n    'Rajasthan':'Jaipur',\n    'Bihar':'Patna'\n}\nkeys = statesAndCapitals.keys()\nprint(keys)",
      "metadata": {
        "trusted": true
      },
      "execution_count": 46,
      "outputs": [
        {
          "name": "stdout",
          "text": "dict_keys(['Gujarat', 'Maharashtra', 'Rajasthan', 'Bihar'])\n",
          "output_type": "stream"
        }
      ]
    },
    {
      "cell_type": "code",
      "source": "# Example 2: Access key without using a key() \n# Python code to iterate through all keys in a dictionary\n\nstatesAndCapitals={\n    'Gujarat':'Gandhinagar',\n    'Maharashtra':'Mumbai',\n    'Rajasthan':'Jaipur',\n    'Bihar':'Patna' \n}\n\nprint('List Of given states:\\n')\n\n# Iterating over keys\nfor state in statesAndCapitals:\n    print(state)",
      "metadata": {
        "trusted": true
      },
      "execution_count": 84,
      "outputs": [
        {
          "name": "stdout",
          "text": "List Of given states:\n\nGujarat\nMaharashtra\nRajasthan\nBihar\n",
          "output_type": "stream"
        }
      ]
    },
    {
      "cell_type": "code",
      "source": "# Example 3: Iterate through all values using .values()\n# Python code to iterate through all values in a dictionary\n\nstatesAndCapitals={\n    'Gujarat':'Gandhinagar',\n    'Maharashtra':'Mumbai',\n    'Rajasthan':'Jaipur',\n    'Bihar':'Patna'\n}\n\nprint('List Of given capitals:\\n')\n\n# Iterating over values\nfor capital in statesAndCapitals.values():\n    print(capital)",
      "metadata": {
        "trusted": true
      },
      "execution_count": 83,
      "outputs": [
        {
          "name": "stdout",
          "text": "List Of given capitals:\n\nGandhinagar\nMumbai\nJaipur\nPatna\n",
          "output_type": "stream"
        }
      ]
    },
    {
      "cell_type": "code",
      "source": "# Example 4: Iterate through all key, and value pairs using items()\n# Python code to iterate through all key, value pairs in a dictionary\n\nstatesAndCapitals={\n    'Gujarat':'Gandhinagar',\n    'Maharashtra':'Mumbai',\n    'Rajasthan':'Jaipur',\n    'Bihar':'Patna' \n}\n\nprint('List Of given states and their capitals:\\n')\n\n# Iterating over values\nfor state, capital in statesAndCapitals.items():\n    print(state,\":\",capital)",
      "metadata": {
        "trusted": true
      },
      "execution_count": 81,
      "outputs": [
        {
          "name": "stdout",
          "text": "List Of given states and their capitals:\n\nGujarat : Gandhinagar\nMaharashtra : Mumbai\nRajasthan : Jaipur\nBihar : Patna\n",
          "output_type": "stream"
        }
      ]
    },
    {
      "cell_type": "code",
      "source": "# Example 5: Access both key and value without using items()\n# Python code to iterate through all values in a dictionary\n\nstatesAndCapitals={\n    'Gujarat':'Gandhinagar',\n    'Maharashtra':'Mumbai',\n    'Rajasthan':'Jaipur',\n    'Bihar':'Patna'\n}\nfor i in statesAndCapitals:\n    print(i,'->',statesAndCapitals[i])",
      "metadata": {
        "trusted": true
      },
      "execution_count": 80,
      "outputs": [
        {
          "name": "stdout",
          "text": "Gujarat -> Gandhinagar\nMaharashtra -> Mumbai\nRajasthan -> Jaipur\nBihar -> Patna\n",
          "output_type": "stream"
        }
      ]
    },
    {
      "cell_type": "code",
      "source": "# Example 6: Print items in Key-Value in pair \n# Python code to iterate through all values in a dictionary\n\nstatesAndCapitals={\n    'Gujarat':'Gandhinagar',\n    'Maharashtra':'Mumbai',\n    'Rajasthan':'Jaipur',\n    'Bihar':'Patna'\n}\n\nkeys = statesAndCapitals.items()\nprint(keys)",
      "metadata": {
        "trusted": true
      },
      "execution_count": 85,
      "outputs": [
        {
          "name": "stdout",
          "text": "dict_items([('Gujarat', 'Gandhinagar'), ('Maharashtra', 'Mumbai'), ('Rajasthan', 'Jaipur'), ('Bihar', 'Patna')])\n",
          "output_type": "stream"
        }
      ]
    }
  ]
}
