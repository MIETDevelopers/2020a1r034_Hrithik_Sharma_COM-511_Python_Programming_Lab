{
 "cells": [
  {
   "cell_type": "code",
   "execution_count": null,
   "id": "146e4d81",
   "metadata": {},
   "outputs": [],
   "source": [
    "f = open(\"exp.txt\",\"w\")   #opening of file\n",
    "a = input(\"Enter the line : \\n\")   #taking user input\n",
    "b = input(\"Enter the line : \\n\")\n",
    "c = input(\"Enter the line : \\n\")\n",
    "new_line = \"\\n\"   #printing new line \n",
    "f.write(a)   #writing into file\n",
    "f.write(new_line)\n",
    "f.write(b)\n",
    "f.write(new_line)\n",
    "f.write(c)\n",
    "print(\"\\n\")\n",
    "\n",
    "f = open(\"exp.txt\",\"r\")   #opeining the file in read mode\n",
    "print(f.read())  #printing what is written into file"
   ]
  }
 ],
 "metadata": {
  "kernelspec": {
   "display_name": "Python 3 (ipykernel)",
   "language": "python",
   "name": "python3"
  },
  "language_info": {
   "codemirror_mode": {
    "name": "ipython",
    "version": 3
   },
   "file_extension": ".py",
   "mimetype": "text/x-python",
   "name": "python",
   "nbconvert_exporter": "python",
   "pygments_lexer": "ipython3",
   "version": "3.9.12"
  }
 },
 "nbformat": 4,
 "nbformat_minor": 5
}
