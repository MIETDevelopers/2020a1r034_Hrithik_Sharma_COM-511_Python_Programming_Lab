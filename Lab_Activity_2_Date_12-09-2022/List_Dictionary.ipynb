{
 "cells": [
  {
   "cell_type": "markdown",
   "metadata": {},
   "source": [
    "# List Iteration"
   ]
  },
  {
   "cell_type": "code",
   "execution_count": 13,
   "metadata": {},
   "outputs": [
    {
     "name": "stdout",
     "output_type": "stream",
     "text": [
      "1\n",
      "3\n",
      "5\n",
      "7\n",
      "9\n"
     ]
    }
   ],
   "source": [
    "# Method 1: Using For loop \n",
    "# Python3 code to iterate over a list\n",
    "list = [1, 3, 5, 7, 9]\n",
    "# Using for loop\n",
    "for i in list:\n",
    "    print(i)"
   ]
  },
  {
   "cell_type": "code",
   "execution_count": 40,
   "metadata": {},
   "outputs": [
    {
     "name": "stdout",
     "output_type": "stream",
     "text": [
      "1\n",
      "3\n",
      "5\n",
      "7\n",
      "9\n"
     ]
    }
   ],
   "source": [
    "# Method 2: For loop and range()\n",
    "# In case we want to use the traditional for loop which iterates from number x to number y\n",
    "# Python3 code to iterate over a list\n",
    "\n",
    "list = [1, 3, 5, 7, 9]\n",
    "# Getting length of list\n",
    "length = len(list)\n",
    "for i in range(length):\n",
    "    print(list[i])"
   ]
  },
  {
   "cell_type": "code",
   "execution_count": 39,
   "metadata": {},
   "outputs": [
    {
     "name": "stdout",
     "output_type": "stream",
     "text": [
      "1\n",
      "3\n",
      "5\n",
      "7\n",
      "9\n"
     ]
    }
   ],
   "source": [
    "# Method 3: Using while loop \n",
    "# Python3 code to iterate over a list\n",
    "\n",
    "list = [1, 3, 5, 7, 9]\n",
    "# Getting length of list\n",
    "length = len(list)\n",
    "i = 0\n",
    "# Iterating using while loop\n",
    "while i<length:\n",
    "    print(list[i])\n",
    "    i+=1"
   ]
  },
  {
   "cell_type": "code",
   "execution_count": 18,
   "metadata": {},
   "outputs": [
    {
     "name": "stdout",
     "output_type": "stream",
     "text": [
      "1\n",
      "3\n",
      "5\n",
      "7\n",
      "9\n"
     ]
    },
    {
     "data": {
      "text/plain": [
       "[None, None, None, None, None]"
      ]
     },
     "execution_count": 18,
     "metadata": {},
     "output_type": "execute_result"
    }
   ],
   "source": [
    "# Method 4: Using list comprehension (Possibly the most concrete way)\n",
    "# Python3 code to iterate over a list\n",
    "\n",
    "list = [1, 3, 5, 7, 9]\n",
    "# Using list comprehension\n",
    "[print(i) for i in list]"
   ]
  },
  {
   "cell_type": "markdown",
   "metadata": {},
   "source": [
    "# Dictionary Iteration"
   ]
  },
  {
   "cell_type": "code",
   "execution_count": 46,
   "metadata": {},
   "outputs": [
    {
     "name": "stdout",
     "output_type": "stream",
     "text": [
      "dict_keys(['Gujarat', 'Maharashtra', 'Rajasthan', 'Bihar'])\n"
     ]
    }
   ],
   "source": [
    "# Example 1: Access key using the build .keys() \n",
    "# Python code to iterate through all values in a dictionary\n",
    "\n",
    "statesAndCapitals={\n",
    "    'Gujarat':'Gandhinagar',\n",
    "    'Maharashtra':'Mumbai',\n",
    "    'Rajasthan':'Jaipur',\n",
    "    'Bihar':'Patna'\n",
    "}\n",
    "keys = statesAndCapitals.keys()\n",
    "print(keys)"
   ]
  },
  {
   "cell_type": "code",
   "execution_count": 84,
   "metadata": {},
   "outputs": [
    {
     "name": "stdout",
     "output_type": "stream",
     "text": [
      "List Of given states:\n",
      "\n",
      "Gujarat\n",
      "Maharashtra\n",
      "Rajasthan\n",
      "Bihar\n"
     ]
    }
   ],
   "source": [
    "# Example 2: Access key without using a key() \n",
    "# Python code to iterate through all keys in a dictionary\n",
    "\n",
    "statesAndCapitals={\n",
    "    'Gujarat':'Gandhinagar',\n",
    "    'Maharashtra':'Mumbai',\n",
    "    'Rajasthan':'Jaipur',\n",
    "    'Bihar':'Patna' \n",
    "}\n",
    "\n",
    "print('List Of given states:\\n')\n",
    "\n",
    "# Iterating over keys\n",
    "for state in statesAndCapitals:\n",
    "    print(state)"
   ]
  },
  {
   "cell_type": "code",
   "execution_count": 83,
   "metadata": {},
   "outputs": [
    {
     "name": "stdout",
     "output_type": "stream",
     "text": [
      "List Of given capitals:\n",
      "\n",
      "Gandhinagar\n",
      "Mumbai\n",
      "Jaipur\n",
      "Patna\n"
     ]
    }
   ],
   "source": [
    "# Example 3: Iterate through all values using .values()\n",
    "# Python code to iterate through all values in a dictionary\n",
    "\n",
    "statesAndCapitals={\n",
    "    'Gujarat':'Gandhinagar',\n",
    "    'Maharashtra':'Mumbai',\n",
    "    'Rajasthan':'Jaipur',\n",
    "    'Bihar':'Patna'\n",
    "}\n",
    "\n",
    "print('List Of given capitals:\\n')\n",
    "\n",
    "# Iterating over values\n",
    "for capital in statesAndCapitals.values():\n",
    "    print(capital)"
   ]
  },
  {
   "cell_type": "code",
   "execution_count": 81,
   "metadata": {},
   "outputs": [
    {
     "name": "stdout",
     "output_type": "stream",
     "text": [
      "List Of given states and their capitals:\n",
      "\n",
      "Gujarat : Gandhinagar\n",
      "Maharashtra : Mumbai\n",
      "Rajasthan : Jaipur\n",
      "Bihar : Patna\n"
     ]
    }
   ],
   "source": [
    "# Example 4: Iterate through all key, and value pairs using items()\n",
    "# Python code to iterate through all key, value pairs in a dictionary\n",
    "\n",
    "statesAndCapitals={\n",
    "    'Gujarat':'Gandhinagar',\n",
    "    'Maharashtra':'Mumbai',\n",
    "    'Rajasthan':'Jaipur',\n",
    "    'Bihar':'Patna' \n",
    "}\n",
    "\n",
    "print('List Of given states and their capitals:\\n')\n",
    "\n",
    "# Iterating over values\n",
    "for state, capital in statesAndCapitals.items():\n",
    "    print(state,\":\",capital)"
   ]
  },
  {
   "cell_type": "code",
   "execution_count": 80,
   "metadata": {},
   "outputs": [
    {
     "name": "stdout",
     "output_type": "stream",
     "text": [
      "Gujarat -> Gandhinagar\n",
      "Maharashtra -> Mumbai\n",
      "Rajasthan -> Jaipur\n",
      "Bihar -> Patna\n"
     ]
    }
   ],
   "source": [
    "# Example 5: Access both key and value without using items()\n",
    "# Python code to iterate through all values in a dictionary\n",
    "\n",
    "statesAndCapitals={\n",
    "    'Gujarat':'Gandhinagar',\n",
    "    'Maharashtra':'Mumbai',\n",
    "    'Rajasthan':'Jaipur',\n",
    "    'Bihar':'Patna'\n",
    "}\n",
    "for i in statesAndCapitals:\n",
    "    print(i,'->',statesAndCapitals[i])"
   ]
  },
  {
   "cell_type": "code",
   "execution_count": 85,
   "metadata": {},
   "outputs": [
    {
     "name": "stdout",
     "output_type": "stream",
     "text": [
      "dict_items([('Gujarat', 'Gandhinagar'), ('Maharashtra', 'Mumbai'), ('Rajasthan', 'Jaipur'), ('Bihar', 'Patna')])\n"
     ]
    }
   ],
   "source": [
    "# Example 6: Print items in Key-Value in pair \n",
    "# Python code to iterate through all values in a dictionary\n",
    "\n",
    "statesAndCapitals={\n",
    "    'Gujarat':'Gandhinagar',\n",
    "    'Maharashtra':'Mumbai',\n",
    "    'Rajasthan':'Jaipur',\n",
    "    'Bihar':'Patna'\n",
    "}\n",
    "\n",
    "keys = statesAndCapitals.items()\n",
    "print(keys)"
   ]
  }
 ],
 "metadata": {
  "kernelspec": {
   "display_name": "Python 3 (ipykernel)",
   "language": "python",
   "name": "python3"
  },
  "language_info": {
   "codemirror_mode": {
    "name": "ipython",
    "version": 3
   },
   "file_extension": ".py",
   "mimetype": "text/x-python",
   "name": "python",
   "nbconvert_exporter": "python",
   "pygments_lexer": "ipython3",
   "version": "3.9.12"
  }
 },
 "nbformat": 4,
 "nbformat_minor": 4
}
