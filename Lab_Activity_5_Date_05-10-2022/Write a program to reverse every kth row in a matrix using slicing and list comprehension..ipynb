{
 "cells": [
  {
   "cell_type": "code",
   "execution_count": 1,
   "id": "2e8408f1",
   "metadata": {},
   "outputs": [
    {
     "name": "stdout",
     "output_type": "stream",
     "text": [
      "Before reversing:  [[2, 3, 4], [5, 6, 7], [8, 9, 6]]\n",
      "after reversing kth row :  [[2, 3, 4], [7, 6, 5], [8, 9, 6]]\n"
     ]
    }
   ],
   "source": [
    "# Write a program to reverse every kth row in a matrix using slicing and list comprehension.\n",
    "test_list = [[2,3,4],[5,6,7],[8,9,6]]\n",
    "print(\"Before reversing: \",str(test_list))\n",
    "k=2\n",
    "res=[l[::-1] if (i+1)%k==0 else l for i, l in enumerate(test_list)]\n",
    "print(\"after reversing kth row : \", str(res))"
   ]
  },
  {
   "cell_type": "code",
   "execution_count": null,
   "id": "b5b87987",
   "metadata": {},
   "outputs": [],
   "source": []
  }
 ],
 "metadata": {
  "kernelspec": {
   "display_name": "Python 3 (ipykernel)",
   "language": "python",
   "name": "python3"
  },
  "language_info": {
   "codemirror_mode": {
    "name": "ipython",
    "version": 3
   },
   "file_extension": ".py",
   "mimetype": "text/x-python",
   "name": "python",
   "nbconvert_exporter": "python",
   "pygments_lexer": "ipython3",
   "version": "3.9.12"
  }
 },
 "nbformat": 4,
 "nbformat_minor": 5
}
